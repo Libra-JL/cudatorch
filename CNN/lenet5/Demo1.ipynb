{
 "cells": [
  {
   "cell_type": "code",
   "id": "initial_id",
   "metadata": {
    "collapsed": true,
    "ExecuteTime": {
     "end_time": "2025-08-22T16:17:36.925975Z",
     "start_time": "2025-08-22T16:17:36.922519Z"
    }
   },
   "source": "import torch\n",
   "outputs": [],
   "execution_count": 3
  },
  {
   "metadata": {
    "ExecuteTime": {
     "end_time": "2025-08-22T16:18:00.582964Z",
     "start_time": "2025-08-22T16:18:00.579468Z"
    }
   },
   "cell_type": "code",
   "source": "print(torch.accelerator.current_accelerator())",
   "id": "6439d716314054ff",
   "outputs": [
    {
     "name": "stdout",
     "output_type": "stream",
     "text": [
      "None\n"
     ]
    }
   ],
   "execution_count": 5
  },
  {
   "metadata": {
    "ExecuteTime": {
     "end_time": "2025-08-22T16:54:34.339549Z",
     "start_time": "2025-08-22T16:54:34.312998Z"
    }
   },
   "cell_type": "code",
   "source": "torch.cuda.is_available()",
   "id": "b1880813caee75f6",
   "outputs": [
    {
     "data": {
      "text/plain": [
       "True"
      ]
     },
     "execution_count": 2,
     "metadata": {},
     "output_type": "execute_result"
    }
   ],
   "execution_count": 2
  },
  {
   "metadata": {
    "ExecuteTime": {
     "end_time": "2025-08-22T16:54:20.128577Z",
     "start_time": "2025-08-22T16:54:18.500940Z"
    }
   },
   "cell_type": "code",
   "source": [
    "# 查看当前torch版本\n",
    "import torch\n",
    "print(torch.__version__)\n"
   ],
   "id": "13a49eca3b78f5d8",
   "outputs": [
    {
     "name": "stdout",
     "output_type": "stream",
     "text": [
      "2.7.1+cu126\n"
     ]
    }
   ],
   "execution_count": 1
  },
  {
   "metadata": {},
   "cell_type": "code",
   "outputs": [],
   "execution_count": null,
   "source": [
    "# 查看当前torch版本\n",
    "# 如果是cpu就查看cuda版本安装对应合适的gpu版本torch\n",
    "# 打开终端（Linux）或命令提示符（Windows），运行nvidia-smi\n",
    "# https://pytorch.org/get-started/previous-versions/\n",
    "# pip install torch==2.7.0 torchvision==0.22.0 torchaudio==2.7.0 --index-url https://download.pytorch.org/whl/cu126"
   ],
   "id": "1f6066a633eb3140"
  }
 ],
 "metadata": {
  "kernelspec": {
   "display_name": "Python 3",
   "language": "python",
   "name": "python3"
  },
  "language_info": {
   "codemirror_mode": {
    "name": "ipython",
    "version": 2
   },
   "file_extension": ".py",
   "mimetype": "text/x-python",
   "name": "python",
   "nbconvert_exporter": "python",
   "pygments_lexer": "ipython2",
   "version": "2.7.6"
  }
 },
 "nbformat": 4,
 "nbformat_minor": 5
}
